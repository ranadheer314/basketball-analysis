{
 "cells": [
  {
   "cell_type": "code",
   "execution_count": 1,
   "id": "f9640439",
   "metadata": {},
   "outputs": [],
   "source": [
    "import vault\n",
    "import requests\n",
    "import os\n",
    "import json\n",
    "import pandas as pd\n",
    "from utilities import * "
   ]
  },
  {
   "cell_type": "code",
   "execution_count": 2,
   "id": "2e0a6066",
   "metadata": {},
   "outputs": [],
   "source": [
    "url = \"https://api-nba-v1.p.rapidapi.com/games\"\n",
    "querystring = {\"date\":\"2024-01-31\"}\n",
    "\n",
    "\n",
    "#url = \"https://api-nba-v1.p.rapidapi.com/games\"\n",
    "#querystring = {\"live\":\"all\"}"
   ]
  },
  {
   "cell_type": "code",
   "execution_count": 22,
   "id": "2ecac922",
   "metadata": {},
   "outputs": [],
   "source": [
    "response=get_response(url,querystring)"
   ]
  },
  {
   "cell_type": "code",
   "execution_count": 21,
   "id": "68949193",
   "metadata": {},
   "outputs": [],
   "source": [
    "url = \"https://api-nba-v1.p.rapidapi.com/games\"\n",
    "querystring = {\"h2h\":\"1-2\"}"
   ]
  },
  {
   "cell_type": "code",
   "execution_count": 2,
   "id": "a1cedcaa",
   "metadata": {},
   "outputs": [],
   "source": [
    "url = \"https://api-nba-v1.p.rapidapi.com/games\"\n",
    "querystring = {\"season\":\"2023\"}"
   ]
  },
  {
   "cell_type": "code",
   "execution_count": 4,
   "id": "0c59b168",
   "metadata": {},
   "outputs": [],
   "source": [
    "response1=get_response(url,querystring).json()"
   ]
  },
  {
   "cell_type": "code",
   "execution_count": 21,
   "id": "33bfe2f6",
   "metadata": {},
   "outputs": [],
   "source": [
    "with open('downloaded_responses/2023-season-games.json','w') as json_file:\n",
    "    json.dump(response1,json_file)"
   ]
  },
  {
   "cell_type": "code",
   "execution_count": 35,
   "id": "51e9fb24",
   "metadata": {},
   "outputs": [],
   "source": [
    "df1=pd.DataFrame(response1['response'],columns=response1['response'][0].keys())\n",
    "df1.to_csv('2023_season.csv',index='False')"
   ]
  },
  {
   "cell_type": "code",
   "execution_count": 47,
   "id": "6f7dd9c6",
   "metadata": {},
   "outputs": [],
   "source": [
    "team_columns=df1['teams'][2]['visitors'].keys()\n",
    "team_df=pd.DataFrame(columns=team_columns)"
   ]
  },
  {
   "cell_type": "code",
   "execution_count": null,
   "id": "dc25fd28",
   "metadata": {},
   "outputs": [],
   "source": [
    "for match in df1[\"teams\"]:\n",
    "    ## add by list item\n",
    "    if match['visitors']['id'] not in team_df['id'].values:\n",
    "        team_df=pd.concat([team_df,pd.DataFrame([match['visitors']])])\n",
    "    if match['home']['id'] not in team_df['id'].values:\n",
    "        team_df=pd.concat([team_df,pd.DataFrame([match['home']])])"
   ]
  },
  {
   "cell_type": "code",
   "execution_count": 82,
   "id": "e622a8c0",
   "metadata": {},
   "outputs": [],
   "source": [
    "team_df.to_csv('downloaded_responses/teams.csv')"
   ]
  },
  {
   "cell_type": "code",
   "execution_count": 30,
   "id": "18a30d01",
   "metadata": {},
   "outputs": [],
   "source": [
    "url = \"https://api-nba-v1.p.rapidapi.com/games\"\n",
    "\n",
    "querystring = {\"season\":\"2023\",\"team\":\"2\"}\n",
    "\n",
    "response = requests.get(url, headers=headers, params=querystring)\n"
   ]
  }
 ],
 "metadata": {
  "kernelspec": {
   "display_name": "Python 3 (ipykernel)",
   "language": "python",
   "name": "python3"
  },
  "language_info": {
   "codemirror_mode": {
    "name": "ipython",
    "version": 3
   },
   "file_extension": ".py",
   "mimetype": "text/x-python",
   "name": "python",
   "nbconvert_exporter": "python",
   "pygments_lexer": "ipython3",
   "version": "3.11.5"
  }
 },
 "nbformat": 4,
 "nbformat_minor": 5
}
