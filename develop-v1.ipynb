{
 "cells": [
  {
   "cell_type": "code",
   "execution_count": 1,
   "id": "f9640439",
   "metadata": {},
   "outputs": [],
   "source": [
    "import vault\n",
    "import requests\n",
    "from utilities import * "
   ]
  },
  {
   "cell_type": "code",
   "execution_count": 2,
   "id": "2e0a6066",
   "metadata": {},
   "outputs": [],
   "source": [
    "url = \"https://api-nba-v1.p.rapidapi.com/games\"\n",
    "querystring = {\"date\":\"2024-01-31\"}\n",
    "\n",
    "\n",
    "url = \"https://api-nba-v1.p.rapidapi.com/games\"\n",
    "querystring = {\"live\":\"all\"}"
   ]
  },
  {
   "cell_type": "code",
   "execution_count": 5,
   "id": "2ecac922",
   "metadata": {},
   "outputs": [],
   "source": [
    "response=get_response(url,querystring)"
   ]
  },
  {
   "cell_type": "code",
   "execution_count": 6,
   "id": "a0cb63a4",
   "metadata": {},
   "outputs": [
    {
     "data": {
      "text/plain": [
       "[['Chicago Bulls', 'Charlotte Hornets'],\n",
       " ['Detroit Pistons', 'Cleveland Cavaliers'],\n",
       " ['LA Clippers', 'Washington Wizards'],\n",
       " ['Sacramento Kings', 'Miami Heat']]"
      ]
     },
     "execution_count": 6,
     "metadata": {},
     "output_type": "execute_result"
    }
   ],
   "source": [
    "get_teams(response)"
   ]
  }
 ],
 "metadata": {
  "kernelspec": {
   "display_name": "Python 3 (ipykernel)",
   "language": "python",
   "name": "python3"
  },
  "language_info": {
   "codemirror_mode": {
    "name": "ipython",
    "version": 3
   },
   "file_extension": ".py",
   "mimetype": "text/x-python",
   "name": "python",
   "nbconvert_exporter": "python",
   "pygments_lexer": "ipython3",
   "version": "3.11.5"
  }
 },
 "nbformat": 4,
 "nbformat_minor": 5
}
